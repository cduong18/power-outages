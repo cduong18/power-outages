{
 "cells": [
  {
   "cell_type": "markdown",
   "metadata": {},
   "source": [
    "# Power Outages\n",
    "**By Carolyn Duong**\n",
    "\n",
    "Here is the [article](https://www.sciencedirect.com/science/article/pii/S2352340918307182) that describes the variables within the data set.\n",
    "\n",
    "The dataframe describes instances of power outages across the 50 states of America from January 2000 to July 2016. It contains very informative details such as the month and year in which the outage occurred, as well as the location of the occurrence, the region’s climate, the region’s population density, plausible causes of the outage, the outage duration, and much more. This valuable information can lead to many interesting studies. \n",
    "\n",
    "\n",
    "## Part 1: Permutation Tests\n",
    "\n",
    "### Introduction\n",
    "The data set in its original format describes instances of power outages across the 50 states of America from the beginning of 2000 to July 2016. It contains very informative details such as the month and year in which the outage occurred, as well as the location of the occurrence, the region’s climate, the region’s population density, plausible causes of the outage, the outage duration, and much more. This valuable information can lead to many interesting studies. This data set relates my question under investigation, which is whether or not different regions experience different outage causes, specifically for the populous states of California and New York. Further down in this notebook, you will come across a hypothesis test that strives to answer the question of whether or not the observed differences in the distribution of outage causes between California and New York are mainly due to random chance.\n",
    "\n",
    "\n",
    "### Cleaning and EDA\n",
    "The excel sheet is oriented in a way where using pd.read_excel() results in a table containing 1535 rows and 57 columns with nonsensical rows, nondescriptive column names, and an unnecessary column named \"variables.\" Working with the data set as is without cleaning would result in many failures and lots of confusion. Removing the unnecessary column and unnecessary rows, while re-indexing the column names to match their content would greatly improve the efficiency of future data manipulation. Another thing is that dates and times are originally listed in separate columns, however, combining them into a single column with a readable format can ease the process of exploring the relationship between date/time of an outage occurrence and other facets of the data set. As a result, I did the said actions above, which resulted in the clean data.\n",
    "\n",
    "As for the missing data, I decided to keep it in there in order for it to be used later in the assessment of missingness portion of the project. Therefore, NaN values will be imputed or removed later on as necessary.\n",
    "\n",
    "Given the ample amount of rows and columns in the data set, it was easy to conduct univariate analysis, bivariate analysis, and aggregate statistics. A few interesting questions arose, which led to the creation of different tables and plots (they can be seen in the coding section).\n",
    "\n",
    "Some questions in mind were:\n",
    "What climate do outages occur in?\n",
    "What are the main causes of these outages?\n",
    "Is there a time of the year where outages occur more often?\n",
    "Can a state’s population tell us something about the number of total outages that occur in that region?\n",
    "Is there a relationship between the length of a power outage and the number of customers affected?\n",
    "\n",
    "\n",
    "### Assessment of Missingness\n",
    "I decided to study the missingness of the 'OUTAGE.DURATION' column and its relation to the 'U.S._STATE' column and the 'CAUSE.CATEGORY.DETAIL' column to see if there was dependence involved. In order to study missingness, I performed permutation tests with a significance level of 0.05 and the total variation distance (TVD) as the test statistic. This would be used to determine whether or not the missingness of the 'OUTAGE.DURATION' column outage is missing at random or not, in relation to other columns.\n",
    "\n",
    "In the first permutation test, we tested for missingness dependence of 'OUTAGE.DURATION' on the state. The observed TVD was around 0.25. Shuffling the 'U.S._STATE' column and computing the total variation distance under the null hypothesis 1000 times allowed us to calculate the p-value, or the proportion of TVDs greater than or equal to the observed TVD, which gave us a result close to 0.25. Because the p-value is more than our significance level of 0.05, this suggests that the two columns or missing at random. This permutation test shows that what is observed is similar to what would likely happen if the values were inputted randomly. We conclude that the missingness of 'OUTAGE.DURATION' is MAR on the 'U.S._STATE' column.\n",
    "\n",
    "In the second permutation test, we tested for missingness dependence of 'OUTAGE.DURATION' on the cause of the outage. The observed TVD was around 0.38. Shuffling the 'CLIMATE.CATEGORY' column and computing the total variation distance under the null hypothesis 1000 times allowed us to calculate the p-value, or the proportion of TVDs greater than or equal to the observed TVD, which gave us a result close to 0.005. Because the p-value is less than our significance level of 0.05, this suggests that the two columns or not missing at random. This permutation test shows that what is observed is very different from what is likely to happen if the values were inputted randomly. We cannot determine whether the missingness of 'OUTAGE.DURATION' is MD, MCAR, or non-ignorable, but we can state that the missingness of 'OUTAGE.DURATION'  is not MAR on 'CAUSE.CATEGORY.DETAIL'.\n",
    "\n",
    "\n",
    "### Hypothesis Test\n",
    "The hypothesis test strives to examine at the different causes of the various power outages into highly-populated states: California and New York. We would like to see whether the differences in the distribution of outage causes are just due to random chance, or are possibly caused by some other underlying factor. \n",
    "The null hypothesis was that the observed differences in proportions of outage causes for California and New York are likely due to random chance, while the alternative hypothesis was that the observed differences in proportions of outage causes for California and New York were not likely due to random chance and that there is both underrepresentation and overrepresentation of certain outage causes in the two regions.\n",
    "\n",
    "This hypothesis test was conducted using a significance level of 0.05 and the total variation distance as the test statistic. Firstly we calculated the observed TVD which was approximately 0.45 and went on to carry out a permutation test by repeatedly shuffling the pause category detail column in Computing the TVD in comparing that value with the observed value. permutation test resulted in a p-value of around 0.017 which was less than 0.05, therefore we rejected the null hypothesis In favor of the alternative hypothesis. This states that the observed differences in proportions of outage cause between California and New York are not likely due to random chance, but maybe caused by some other reason. \n",
    "\n",
    "There are limitations to this hypothesis test, especially when it focused primarily on California and New York. This test could be improved by taking into consideration all 50 states and collecting more data from July 2016 to the present. This would allow us to make a more general assumption about all states rather than just the two listed above and results would be more accurate given that we have data from the year 2000 to the present which is roughly 20 years. We may also want to take into consideration the number of power outages that occur in the different states since it is possible that more populated states would experience more power outages under a wider variety of causes.\n"
   ]
  },
  {
   "cell_type": "markdown",
   "metadata": {},
   "source": [
    "# Code"
   ]
  },
  {
   "cell_type": "code",
   "execution_count": 1,
   "metadata": {
    "ExecuteTime": {
     "end_time": "2019-10-31T23:36:28.652554Z",
     "start_time": "2019-10-31T23:36:27.180520Z"
    }
   },
   "outputs": [],
   "source": [
    "import matplotlib.pyplot as plt\n",
    "import numpy as np\n",
    "import os\n",
    "import pandas as pd\n",
    "import seaborn as sns\n",
    "%matplotlib inline\n",
    "%config InlineBackend.figure_format = 'retina'  # Higher resolution figures"
   ]
  },
  {
   "cell_type": "markdown",
   "metadata": {},
   "source": [
    "### Cleaning and EDA"
   ]
  },
  {
   "cell_type": "markdown",
   "metadata": {},
   "source": [
    "As said in the Cleaning and EDA section under the summary of findings, the original data set is formatted in a way that makes little sense. It contains unnecessary rows and a column, as well as uninformative column names. The code below reads the excel sheet named 'outage.xlsx', drops nonsensical rows and the unnecessary column, re-indexes the column names, as well as combines the 'OUTAGE.START.DATE' and 'OUTAGE.START.TIME' into one column named 'OUTAGE.START', and combines the 'OUTAGE.RESTORATION.DATE' and 'OUTAGE.RESTORATION.TIME' into one column named 'OUTAGE.RESTORATION'. Thus, the data has been cleaned. The top most rows are shown in the table below."
   ]
  },
  {
   "cell_type": "code",
   "execution_count": 2,
   "metadata": {},
   "outputs": [
    {
     "data": {
      "text/html": [
       "<div>\n",
       "<style scoped>\n",
       "    .dataframe tbody tr th:only-of-type {\n",
       "        vertical-align: middle;\n",
       "    }\n",
       "\n",
       "    .dataframe tbody tr th {\n",
       "        vertical-align: top;\n",
       "    }\n",
       "\n",
       "    .dataframe thead th {\n",
       "        text-align: right;\n",
       "    }\n",
       "</style>\n",
       "<table border=\"1\" class=\"dataframe\">\n",
       "  <thead>\n",
       "    <tr style=\"text-align: right;\">\n",
       "      <th></th>\n",
       "      <th>YEAR</th>\n",
       "      <th>MONTH</th>\n",
       "      <th>U.S._STATE</th>\n",
       "      <th>POSTAL.CODE</th>\n",
       "      <th>NERC.REGION</th>\n",
       "      <th>CLIMATE.REGION</th>\n",
       "      <th>ANOMALY.LEVEL</th>\n",
       "      <th>CLIMATE.CATEGORY</th>\n",
       "      <th>CAUSE.CATEGORY</th>\n",
       "      <th>CAUSE.CATEGORY.DETAIL</th>\n",
       "      <th>...</th>\n",
       "      <th>POPDEN_URBAN</th>\n",
       "      <th>POPDEN_UC</th>\n",
       "      <th>POPDEN_RURAL</th>\n",
       "      <th>AREAPCT_URBAN</th>\n",
       "      <th>AREAPCT_UC</th>\n",
       "      <th>PCT_LAND</th>\n",
       "      <th>PCT_WATER_TOT</th>\n",
       "      <th>PCT_WATER_INLAND</th>\n",
       "      <th>OUTAGE.START</th>\n",
       "      <th>OUTAGE.RESTORATION</th>\n",
       "    </tr>\n",
       "  </thead>\n",
       "  <tbody>\n",
       "    <tr>\n",
       "      <td>1</td>\n",
       "      <td>2011</td>\n",
       "      <td>7</td>\n",
       "      <td>Minnesota</td>\n",
       "      <td>MN</td>\n",
       "      <td>MRO</td>\n",
       "      <td>East North Central</td>\n",
       "      <td>-0.3</td>\n",
       "      <td>normal</td>\n",
       "      <td>severe weather</td>\n",
       "      <td>NaN</td>\n",
       "      <td>...</td>\n",
       "      <td>2279</td>\n",
       "      <td>1700.5</td>\n",
       "      <td>18.2</td>\n",
       "      <td>2.14</td>\n",
       "      <td>0.6</td>\n",
       "      <td>91.5927</td>\n",
       "      <td>8.40733</td>\n",
       "      <td>5.47874</td>\n",
       "      <td>2011-07-01 17:00:00</td>\n",
       "      <td>2011-07-03 20:00:00</td>\n",
       "    </tr>\n",
       "    <tr>\n",
       "      <td>2</td>\n",
       "      <td>2014</td>\n",
       "      <td>5</td>\n",
       "      <td>Minnesota</td>\n",
       "      <td>MN</td>\n",
       "      <td>MRO</td>\n",
       "      <td>East North Central</td>\n",
       "      <td>-0.1</td>\n",
       "      <td>normal</td>\n",
       "      <td>intentional attack</td>\n",
       "      <td>vandalism</td>\n",
       "      <td>...</td>\n",
       "      <td>2279</td>\n",
       "      <td>1700.5</td>\n",
       "      <td>18.2</td>\n",
       "      <td>2.14</td>\n",
       "      <td>0.6</td>\n",
       "      <td>91.5927</td>\n",
       "      <td>8.40733</td>\n",
       "      <td>5.47874</td>\n",
       "      <td>2014-05-11 18:38:00</td>\n",
       "      <td>2014-05-11 18:39:00</td>\n",
       "    </tr>\n",
       "    <tr>\n",
       "      <td>3</td>\n",
       "      <td>2010</td>\n",
       "      <td>10</td>\n",
       "      <td>Minnesota</td>\n",
       "      <td>MN</td>\n",
       "      <td>MRO</td>\n",
       "      <td>East North Central</td>\n",
       "      <td>-1.5</td>\n",
       "      <td>cold</td>\n",
       "      <td>severe weather</td>\n",
       "      <td>heavy wind</td>\n",
       "      <td>...</td>\n",
       "      <td>2279</td>\n",
       "      <td>1700.5</td>\n",
       "      <td>18.2</td>\n",
       "      <td>2.14</td>\n",
       "      <td>0.6</td>\n",
       "      <td>91.5927</td>\n",
       "      <td>8.40733</td>\n",
       "      <td>5.47874</td>\n",
       "      <td>2010-10-26 20:00:00</td>\n",
       "      <td>2010-10-28 22:00:00</td>\n",
       "    </tr>\n",
       "    <tr>\n",
       "      <td>4</td>\n",
       "      <td>2012</td>\n",
       "      <td>6</td>\n",
       "      <td>Minnesota</td>\n",
       "      <td>MN</td>\n",
       "      <td>MRO</td>\n",
       "      <td>East North Central</td>\n",
       "      <td>-0.1</td>\n",
       "      <td>normal</td>\n",
       "      <td>severe weather</td>\n",
       "      <td>thunderstorm</td>\n",
       "      <td>...</td>\n",
       "      <td>2279</td>\n",
       "      <td>1700.5</td>\n",
       "      <td>18.2</td>\n",
       "      <td>2.14</td>\n",
       "      <td>0.6</td>\n",
       "      <td>91.5927</td>\n",
       "      <td>8.40733</td>\n",
       "      <td>5.47874</td>\n",
       "      <td>2012-06-19 04:30:00</td>\n",
       "      <td>2012-06-20 23:00:00</td>\n",
       "    </tr>\n",
       "    <tr>\n",
       "      <td>5</td>\n",
       "      <td>2015</td>\n",
       "      <td>7</td>\n",
       "      <td>Minnesota</td>\n",
       "      <td>MN</td>\n",
       "      <td>MRO</td>\n",
       "      <td>East North Central</td>\n",
       "      <td>1.2</td>\n",
       "      <td>warm</td>\n",
       "      <td>severe weather</td>\n",
       "      <td>NaN</td>\n",
       "      <td>...</td>\n",
       "      <td>2279</td>\n",
       "      <td>1700.5</td>\n",
       "      <td>18.2</td>\n",
       "      <td>2.14</td>\n",
       "      <td>0.6</td>\n",
       "      <td>91.5927</td>\n",
       "      <td>8.40733</td>\n",
       "      <td>5.47874</td>\n",
       "      <td>2015-07-18 02:00:00</td>\n",
       "      <td>2015-07-19 07:00:00</td>\n",
       "    </tr>\n",
       "  </tbody>\n",
       "</table>\n",
       "<p>5 rows × 53 columns</p>\n",
       "</div>"
      ],
      "text/plain": [
       "0  YEAR MONTH U.S._STATE POSTAL.CODE NERC.REGION      CLIMATE.REGION  \\\n",
       "1  2011     7  Minnesota          MN         MRO  East North Central   \n",
       "2  2014     5  Minnesota          MN         MRO  East North Central   \n",
       "3  2010    10  Minnesota          MN         MRO  East North Central   \n",
       "4  2012     6  Minnesota          MN         MRO  East North Central   \n",
       "5  2015     7  Minnesota          MN         MRO  East North Central   \n",
       "\n",
       "0 ANOMALY.LEVEL CLIMATE.CATEGORY      CAUSE.CATEGORY CAUSE.CATEGORY.DETAIL  \\\n",
       "1          -0.3           normal      severe weather                   NaN   \n",
       "2          -0.1           normal  intentional attack             vandalism   \n",
       "3          -1.5             cold      severe weather            heavy wind   \n",
       "4          -0.1           normal      severe weather          thunderstorm   \n",
       "5           1.2             warm      severe weather                   NaN   \n",
       "\n",
       "0  ... POPDEN_URBAN POPDEN_UC POPDEN_RURAL AREAPCT_URBAN AREAPCT_UC PCT_LAND  \\\n",
       "1  ...         2279    1700.5         18.2          2.14        0.6  91.5927   \n",
       "2  ...         2279    1700.5         18.2          2.14        0.6  91.5927   \n",
       "3  ...         2279    1700.5         18.2          2.14        0.6  91.5927   \n",
       "4  ...         2279    1700.5         18.2          2.14        0.6  91.5927   \n",
       "5  ...         2279    1700.5         18.2          2.14        0.6  91.5927   \n",
       "\n",
       "0 PCT_WATER_TOT PCT_WATER_INLAND        OUTAGE.START  OUTAGE.RESTORATION  \n",
       "1       8.40733          5.47874 2011-07-01 17:00:00 2011-07-03 20:00:00  \n",
       "2       8.40733          5.47874 2014-05-11 18:38:00 2014-05-11 18:39:00  \n",
       "3       8.40733          5.47874 2010-10-26 20:00:00 2010-10-28 22:00:00  \n",
       "4       8.40733          5.47874 2012-06-19 04:30:00 2012-06-20 23:00:00  \n",
       "5       8.40733          5.47874 2015-07-18 02:00:00 2015-07-19 07:00:00  \n",
       "\n",
       "[5 rows x 53 columns]"
      ]
     },
     "execution_count": 2,
     "metadata": {},
     "output_type": "execute_result"
    }
   ],
   "source": [
    "# read outage.xlsx and drop unecessary rows\n",
    "outage = pd.read_excel('outage.xlsx').drop([5]).iloc[4:].reset_index(drop=True)\n",
    "# re-index columns with proper names\n",
    "outage.columns = outage.iloc[0]\n",
    "outage = outage.drop([0])\n",
    "# combine certain columns into one\n",
    "outage[\"OUTAGE.START\"] = pd.to_datetime(outage[\"OUTAGE.START.DATE\"]) + \\\n",
    "pd.to_timedelta(outage[\"OUTAGE.START.TIME\"].astype(str))\n",
    "outage[\"OUTAGE.RESTORATION\"] = pd.to_datetime(outage[\"OUTAGE.RESTORATION.DATE\"]) + \\\n",
    "pd.to_timedelta(outage[\"OUTAGE.RESTORATION.TIME\"].astype(str))\n",
    "#drop unnecessary column(s)\n",
    "outage = outage.drop(columns=[\"variables\",\"OBS\",\"OUTAGE.START.DATE\",\\\n",
    "                                        \"OUTAGE.START.TIME\",\"OUTAGE.RESTORATION.DATE\",\\\n",
    "                                        \"OUTAGE.RESTORATION.TIME\"])\n",
    "# show head of new table\n",
    "outage.head()"
   ]
  },
  {
   "cell_type": "markdown",
   "metadata": {},
   "source": [
    "For univariate analysis, we will look at a few attributes and their distributions and statistics."
   ]
  },
  {
   "cell_type": "markdown",
   "metadata": {},
   "source": [
    "The table below reveals that most outages occur in normal climate, followed by cold climate, followed by warm climate."
   ]
  },
  {
   "cell_type": "code",
   "execution_count": 3,
   "metadata": {},
   "outputs": [
    {
     "data": {
      "text/html": [
       "<div>\n",
       "<style scoped>\n",
       "    .dataframe tbody tr th:only-of-type {\n",
       "        vertical-align: middle;\n",
       "    }\n",
       "\n",
       "    .dataframe tbody tr th {\n",
       "        vertical-align: top;\n",
       "    }\n",
       "\n",
       "    .dataframe thead th {\n",
       "        text-align: right;\n",
       "    }\n",
       "</style>\n",
       "<table border=\"1\" class=\"dataframe\">\n",
       "  <thead>\n",
       "    <tr style=\"text-align: right;\">\n",
       "      <th></th>\n",
       "      <th>CLIMATE.CATEGORY</th>\n",
       "    </tr>\n",
       "  </thead>\n",
       "  <tbody>\n",
       "    <tr>\n",
       "      <td>normal</td>\n",
       "      <td>0.487869</td>\n",
       "    </tr>\n",
       "    <tr>\n",
       "      <td>cold</td>\n",
       "      <td>0.310164</td>\n",
       "    </tr>\n",
       "    <tr>\n",
       "      <td>warm</td>\n",
       "      <td>0.201967</td>\n",
       "    </tr>\n",
       "  </tbody>\n",
       "</table>\n",
       "</div>"
      ],
      "text/plain": [
       "        CLIMATE.CATEGORY\n",
       "normal          0.487869\n",
       "cold            0.310164\n",
       "warm            0.201967"
      ]
     },
     "execution_count": 3,
     "metadata": {},
     "output_type": "execute_result"
    }
   ],
   "source": [
    "pd.DataFrame(outage['CLIMATE.CATEGORY'].value_counts(normalize=True))"
   ]
  },
  {
   "cell_type": "markdown",
   "metadata": {},
   "source": [
    "The table below reveals that the most common cause of outages is vandalism. Nearly 31% of all outages in the U.S. are caused by vandalism. Thunderstorms and other natural influences are common causes as well. This table only shows the top 5 causes."
   ]
  },
  {
   "cell_type": "code",
   "execution_count": 4,
   "metadata": {},
   "outputs": [
    {
     "data": {
      "text/html": [
       "<div>\n",
       "<style scoped>\n",
       "    .dataframe tbody tr th:only-of-type {\n",
       "        vertical-align: middle;\n",
       "    }\n",
       "\n",
       "    .dataframe tbody tr th {\n",
       "        vertical-align: top;\n",
       "    }\n",
       "\n",
       "    .dataframe thead th {\n",
       "        text-align: right;\n",
       "    }\n",
       "</style>\n",
       "<table border=\"1\" class=\"dataframe\">\n",
       "  <thead>\n",
       "    <tr style=\"text-align: right;\">\n",
       "      <th></th>\n",
       "      <th>CAUSE.CATEGORY.DETAIL</th>\n",
       "    </tr>\n",
       "  </thead>\n",
       "  <tbody>\n",
       "    <tr>\n",
       "      <td>vandalism</td>\n",
       "      <td>0.315146</td>\n",
       "    </tr>\n",
       "    <tr>\n",
       "      <td>thunderstorm</td>\n",
       "      <td>0.167451</td>\n",
       "    </tr>\n",
       "    <tr>\n",
       "      <td>winter storm</td>\n",
       "      <td>0.095014</td>\n",
       "    </tr>\n",
       "    <tr>\n",
       "      <td>hurricanes</td>\n",
       "      <td>0.069614</td>\n",
       "    </tr>\n",
       "    <tr>\n",
       "      <td>heavy wind</td>\n",
       "      <td>0.057385</td>\n",
       "    </tr>\n",
       "  </tbody>\n",
       "</table>\n",
       "</div>"
      ],
      "text/plain": [
       "              CAUSE.CATEGORY.DETAIL\n",
       "vandalism                  0.315146\n",
       "thunderstorm               0.167451\n",
       "winter storm               0.095014\n",
       "hurricanes                 0.069614\n",
       "heavy wind                 0.057385"
      ]
     },
     "execution_count": 4,
     "metadata": {},
     "output_type": "execute_result"
    }
   ],
   "source": [
    "pd.DataFrame(outage['CAUSE.CATEGORY.DETAIL'].value_counts(normalize=True)).head()"
   ]
  },
  {
   "cell_type": "markdown",
   "metadata": {},
   "source": [
    "The table below shows the distribution of outages across the different months. At first glance, there does not seem to be a pattern in the timings of the outages or drastic differences between the months, however, a hypothesis test may prove otherwise. "
   ]
  },
  {
   "cell_type": "code",
   "execution_count": 5,
   "metadata": {},
   "outputs": [
    {
     "data": {
      "text/plain": [
       "<matplotlib.axes._subplots.AxesSubplot at 0x1a246de110>"
      ]
     },
     "execution_count": 5,
     "metadata": {},
     "output_type": "execute_result"
    },
    {
     "data": {
      "image/png": "[encoded data removed]",
      "text/plain": [
       "<Figure size 432x288 with 1 Axes>"
      ]
     },
     "metadata": {
      "image/png": {
       "height": 265,
       "width": 378
      },
      "needs_background": "light"
     },
     "output_type": "display_data"
    }
   ],
   "source": [
    "dist = pd.DataFrame(outage['MONTH'].value_counts(normalize=True))\\\n",
    ".rename(columns={\"MONTH\": \"Proportion\"})\n",
    "dist['Month'] = dist.index\n",
    "dist.plot.bar(x='Month',y='Proportion')"
   ]
  },
  {
   "cell_type": "markdown",
   "metadata": {},
   "source": [
    "Examining columns separately may yield different conclusions than examining possibly-related columns. Looking at the proportions of outages occuring in different states, it may be easy to assume some states are disproportionately affected by outages due to there being more xyz causes. We must avoid this assumption and see if this distribution is affected by any other factors such as population. For bivariate analysis, we can explore this by plotting a scatterplot so see if there is any association between the number of outages in a state and the population of a state.\n",
    "\n",
    "The scatterplot below indicates that there is a positive association between a state's population and its recorded number of outages. However, the data is also heterscedastic, so linear regression may not be the best model for the data."
   ]
  },
  {
   "cell_type": "code",
   "execution_count": 6,
   "metadata": {},
   "outputs": [
    {
     "data": {
      "text/plain": [
       "<matplotlib.axes._subplots.AxesSubplot at 0x1a24725490>"
      ]
     },
     "execution_count": 6,
     "metadata": {},
     "output_type": "execute_result"
    },
    {
     "data": {
      "image/png": "[encoded data removed]",
      "text/plain": [
       "<Figure size 432x288 with 1 Axes>"
      ]
     },
     "metadata": {
      "image/png": {
       "height": 272,
       "width": 385
      },
      "needs_background": "light"
     },
     "output_type": "display_data"
    }
   ],
   "source": [
    "# dataframe with distribution of outages across the 50 states\n",
    "states = pd.DataFrame(outage['U.S._STATE'].value_counts(normalize=True))\n",
    "# dataframe with population distribution of the 50 states\n",
    "pops = outage[['U.S._STATE','POPULATION']].groupby('U.S._STATE').first()\\\n",
    ".sort_values(by='POPULATION', ascending = False)\n",
    "# scatterplot with the proportion of outages per state as the x axis\n",
    "# and proportion of population per state as the y axis\n",
    "states.merge(pops,right_on=states.index,left_on=pops.index)\\\n",
    ".plot.scatter(x='U.S._STATE',y='POPULATION')"
   ]
  },
  {
   "cell_type": "markdown",
   "metadata": {},
   "source": [
    "The table below results from computing the mean outage duration after a groupby called on the column 'U.S._STATE'. The results show the states ranked from highest average outage duration to the least. The state with the highest average is Wisconsin, followed by West Virginia. "
   ]
  },
  {
   "cell_type": "code",
   "execution_count": 7,
   "metadata": {},
   "outputs": [
    {
     "data": {
      "text/html": [
       "<div>\n",
       "<style scoped>\n",
       "    .dataframe tbody tr th:only-of-type {\n",
       "        vertical-align: middle;\n",
       "    }\n",
       "\n",
       "    .dataframe tbody tr th {\n",
       "        vertical-align: top;\n",
       "    }\n",
       "\n",
       "    .dataframe thead th {\n",
       "        text-align: right;\n",
       "    }\n",
       "</style>\n",
       "<table border=\"1\" class=\"dataframe\">\n",
       "  <thead>\n",
       "    <tr style=\"text-align: right;\">\n",
       "      <th></th>\n",
       "      <th>OUTAGE.DURATION</th>\n",
       "    </tr>\n",
       "    <tr>\n",
       "      <th>U.S._STATE</th>\n",
       "      <th></th>\n",
       "    </tr>\n",
       "  </thead>\n",
       "  <tbody>\n",
       "    <tr>\n",
       "      <td>Wisconsin</td>\n",
       "      <td>7904.105263</td>\n",
       "    </tr>\n",
       "    <tr>\n",
       "      <td>West Virginia</td>\n",
       "      <td>6979.000000</td>\n",
       "    </tr>\n",
       "    <tr>\n",
       "      <td>New York</td>\n",
       "      <td>6034.957143</td>\n",
       "    </tr>\n",
       "    <tr>\n",
       "      <td>Michigan</td>\n",
       "      <td>5302.978947</td>\n",
       "    </tr>\n",
       "    <tr>\n",
       "      <td>Kentucky</td>\n",
       "      <td>5093.923077</td>\n",
       "    </tr>\n",
       "  </tbody>\n",
       "</table>\n",
       "</div>"
      ],
      "text/plain": [
       "0              OUTAGE.DURATION\n",
       "U.S._STATE                    \n",
       "Wisconsin          7904.105263\n",
       "West Virginia      6979.000000\n",
       "New York           6034.957143\n",
       "Michigan           5302.978947\n",
       "Kentucky           5093.923077"
      ]
     },
     "execution_count": 7,
     "metadata": {},
     "output_type": "execute_result"
    }
   ],
   "source": [
    "df = outage[['U.S._STATE','OUTAGE.DURATION']].dropna()\n",
    "outage_duration = df.loc[:,('OUTAGE.DURATION')].astype(int)\n",
    "df['OUTAGE.DURATION'] = outage_duration\n",
    "df.groupby('U.S._STATE').mean().sort_values(by='OUTAGE.DURATION',ascending=False).head()"
   ]
  },
  {
   "cell_type": "markdown",
   "metadata": {},
   "source": [
    "Taking the columns 'OUTAGE.DURATION' and 'CUSTOMERS.AFFECTED', I removed the NaN values from the data set. This still left me with ample data to work with. The scatterplot below illustrates the (possible) relationship between outage duration and number of customers affected. It is hard to see from here if there is any sort of correlation, especially when most data points lie in the lower left hand corner. The linear regression model is not fit for the data, however, another model may better explain the data. Performing a hypothesis test may also be helpful."
   ]
  },
  {
   "cell_type": "code",
   "execution_count": 8,
   "metadata": {},
   "outputs": [
    {
     "data": {
      "text/plain": [
       "<matplotlib.collections.PathCollection at 0x1a2431b750>"
      ]
     },
     "execution_count": 8,
     "metadata": {},
     "output_type": "execute_result"
    },
    {
     "data": {
      "image/png": "[encoded data removed]",
      "text/plain": [
       "<Figure size 432x288 with 1 Axes>"
      ]
     },
     "metadata": {
      "image/png": {
       "height": 248,
       "width": 405
      },
      "needs_background": "light"
     },
     "output_type": "display_data"
    }
   ],
   "source": [
    "df = outage[['OUTAGE.DURATION','CUSTOMERS.AFFECTED']].dropna()\n",
    "plt.scatter(df['OUTAGE.DURATION'],df['CUSTOMERS.AFFECTED'])"
   ]
  },
  {
   "cell_type": "markdown",
   "metadata": {},
   "source": [
    "### Assessment of Missingness"
   ]
  },
  {
   "cell_type": "markdown",
   "metadata": {},
   "source": [
    "Below are two permutation tests carried out to determine the missingness of the column 'OUTAGE.DURATION'. 'OUTAGE.DURATION' is a column in which specifies the amount of time passed from the beginning to end of a power outage in a given occurrence.\n",
    "\n",
    "The first permutation test tests the missingness dependence of outage duration on the U.S. state. In other words, it asks the question of whether or not the missing values (NaN) in the column 'OUTAGE.DURATION' is linked to the values in the column 'U.S._STATE'. Because 'U.S._STATE' is a categorical type of data, the permutation test will use the total variation distance as the test statistic. \n",
    "\n",
    "Below is the calulcated observed TVD, which is roughly 0.24."
   ]
  },
  {
   "cell_type": "code",
   "execution_count": 9,
   "metadata": {},
   "outputs": [
    {
     "data": {
      "text/plain": [
       "0.23752453041771796"
      ]
     },
     "execution_count": 9,
     "metadata": {},
     "output_type": "execute_result"
    }
   ],
   "source": [
    "# testing misingness dependence of outage duration on the state\n",
    "\n",
    "# observed tvd\n",
    "df = outage[['U.S._STATE','OUTAGE.DURATION']]\\\n",
    ".dropna(subset=['U.S._STATE'], how='all')\n",
    "df = df.assign(is_null = df['OUTAGE.DURATION'].isnull())\n",
    "obs_piv = df.pivot_table(index='is_null', columns='U.S._STATE', aggfunc='size')\\\n",
    ".apply(lambda x:x / x.sum(), axis=1)\n",
    "obs_tvd = obs_piv.diff().iloc[-1].abs().sum() / 2\n",
    "\n",
    "obs_tvd"
   ]
  },
  {
   "cell_type": "markdown",
   "metadata": {},
   "source": [
    "The next step is to carry out a permutation test, which is a type of hypothesis test for comparing two different samples. To ensure an accurate conclusion, we run the permutation test 1000 times. This is done by shuffling the 'U.S._STATE' column, creating a pivot table showing the distribution of missing values, and calculating the TVD 1000 times. With the list of TVDs generated under the assumption of the null hypothesis, we can compare them with the observed TVD.\n",
    "\n",
    "Calculating the proportion of TVDs greater than or equal to the observed TVD gives us the p-value, which in this case is roughly 0.25. This tells us that it is likely that the missing values in the what is observed in the 'OUTAGE.DURATION' column is due to random chance. We conclude that the missingness of 'OUTAGE.DURATION' is MAR on the 'U.S._STATE' column."
   ]
  },
  {
   "cell_type": "code",
   "execution_count": 10,
   "metadata": {},
   "outputs": [
    {
     "data": {
      "text/plain": [
       "0.258"
      ]
     },
     "execution_count": 10,
     "metadata": {},
     "output_type": "execute_result"
    }
   ],
   "source": [
    "# permutation testing\n",
    "tvds = []\n",
    "\n",
    "for i in range(1000):\n",
    "    # shuffle the 'U.S._STATE' column\n",
    "    shuffled_col = (\n",
    "    df['U.S._STATE']\n",
    "    .sample(replace=False, frac=1)\n",
    "    .reset_index(drop=True)\n",
    "    )\n",
    "\n",
    "    # put them in a table\n",
    "    shuffled = (\n",
    "    df\n",
    "    .assign(**{'U.S._STATE': shuffled_col,'is_null': df['OUTAGE.DURATION'].isnull()})\n",
    "    )\n",
    "\n",
    "    # compute the tvd\n",
    "    shuffled = (\n",
    "    shuffled\n",
    "    .pivot_table(index='is_null', columns='U.S._STATE', aggfunc='size')\n",
    "    .apply(lambda x:x / x.sum(), axis=1)\n",
    "    )\n",
    "\n",
    "    tvd = shuffled.diff().iloc[-1].abs().sum() / 2\n",
    "    tvds.append(tvd)\n",
    "\n",
    "pval = np.count_nonzero(tvds >= obs_tvd)/1000\n",
    "pval"
   ]
  },
  {
   "cell_type": "markdown",
   "metadata": {},
   "source": [
    "This second permutation test tests the missingness dependence of outage duration on month. In other words, it asks the question of whether or not the missing values (NaN) in the column 'OUTAGE.DURATION' is linked to the values in the column 'CAUSE.CATEGORY.DETAIL'. Because 'CAUSE.CATEGORY.DETAIL' is a categorical type of data, the permutation test will use the total variation distance as the test statistic.\n",
    "\n",
    "Below is the calulcated observed TVD, which is roughly 0.38."
   ]
  },
  {
   "cell_type": "code",
   "execution_count": 11,
   "metadata": {},
   "outputs": [
    {
     "data": {
      "text/plain": [
       "0.3776681489716509"
      ]
     },
     "execution_count": 11,
     "metadata": {},
     "output_type": "execute_result"
    }
   ],
   "source": [
    "# testing misingness dependence of outage duration on outage cause\n",
    "\n",
    "# observed tvd\n",
    "df = outage[['CAUSE.CATEGORY.DETAIL','OUTAGE.DURATION']].dropna(subset=['CAUSE.CATEGORY.DETAIL'], how='all')\n",
    "df = df.assign(is_null = df['OUTAGE.DURATION'].isnull())\n",
    "obs_piv = df.pivot_table(index='is_null', columns='CAUSE.CATEGORY.DETAIL', aggfunc='size')\\\n",
    ".apply(lambda x:x / x.sum(), axis=1)\n",
    "obs_tvd = obs_piv.diff().iloc[-1].abs().sum() / 2\n",
    "\n",
    "obs_tvd"
   ]
  },
  {
   "cell_type": "markdown",
   "metadata": {},
   "source": [
    "The next step is to carry out a permutation test, which is a type of hypothesis test for comparing two different samples. To ensure an accurate conclusion, we run the permutation test 1000 times. This is done by shuffling the 'CAUSE.CATEGORY.DETAIL' column, creating a pivot table showing the distribution of missing values, and calculating the TVD 1000 times. With the list of TVDs generated under the assumption of the null hypothesis, we can compare them with the observed TVD.\n",
    "\n",
    "Calculating the proportion of TVDs greater than or equal to the observed TVD gives us the p-value, which in this case is roughly 0.005. This tells us that it is very unlikely that the missing values in the what is observed in the 'OUTAGE.DURATION' column is due to random chance. We conclude that the missingness of 'OUTAGE.DURATION' is not MAR on the 'CAUSE.CATEGORY.DETAIL' column."
   ]
  },
  {
   "cell_type": "code",
   "execution_count": 12,
   "metadata": {},
   "outputs": [
    {
     "data": {
      "text/plain": [
       "0.008"
      ]
     },
     "execution_count": 12,
     "metadata": {},
     "output_type": "execute_result"
    }
   ],
   "source": [
    "# permutation testing\n",
    "tvds = []\n",
    "\n",
    "for i in range(1000):\n",
    "    # shuffle the 'CAUSE.CATEGORY.DETAIL' column\n",
    "    shuffled_col = (\n",
    "    df['CAUSE.CATEGORY.DETAIL']\n",
    "    .sample(replace=False, frac=1)\n",
    "    .reset_index(drop=True)\n",
    "    )\n",
    "\n",
    "    # put them in a table\n",
    "    shuffled = (\n",
    "    df\n",
    "    .assign(**{'CAUSE.CATEGORY.DETAIL': shuffled_col,'is_null': df['OUTAGE.DURATION'].isnull()})\n",
    "    )\n",
    "\n",
    "    # compute the tvd\n",
    "    shuffled = (\n",
    "    shuffled\n",
    "    .pivot_table(index='is_null', columns='CAUSE.CATEGORY.DETAIL', aggfunc='size')\n",
    "    .apply(lambda x:x / x.sum(), axis=1)\n",
    "    )\n",
    "\n",
    "    tvd = shuffled.diff().iloc[-1].abs().sum() / 2\n",
    "    tvds.append(tvd)\n",
    "\n",
    "pval = np.count_nonzero(tvds >= obs_tvd)/1000\n",
    "pval"
   ]
  },
  {
   "cell_type": "markdown",
   "metadata": {},
   "source": [
    "### Hypothesis Test"
   ]
  },
  {
   "cell_type": "markdown",
   "metadata": {},
   "source": [
    "The hypothesis test below focuses specifically on two populous states: California and New York. Given the many different reasons that could have caused the outages, we would like to see whether the differences in distribution of outage causes are just due to random chance, or are caused by some other underlying factor. The hypothesis test will determine whether or not the discrepancies between outage causes between the two states are statistically significant.\n",
    "\n",
    "The null hypothesis is that the observed differences in proportions of outage causes for California and New York are likely due to random chance, meaning the proportions of outages caused by the different 'CAUSE.CATEGORY.DETAIL' values are roughly the same for the two respective regions.\n",
    "\n",
    "The alternative hypothesis is that the observed differences in proportions of outage causes for California and New York are not likely due to random chance, meaning the proportions of outages caused by the different 'CAUSE.CATEGORY.DETAIL' values are statistically and significantly different for the two respective regions. This would suggest that there is both underrepresentation and overrepresentation of certain outage causes in the two regions.\n",
    "\n",
    "This hypothesis test will be conducted using a significance level of 0.05 and the total variation distance as the test statistic. A significance level of 0.05 states that there is a 5% probability of rejecting the null hypothesis when it is true. In otherwords, there is a 5% risk of concluding that the observed differences in the data is statistically significant when in actuality, randomness in data is likely due to chance. The TVD is used in this case because we are performing the test on a categorical data type."
   ]
  },
  {
   "cell_type": "markdown",
   "metadata": {},
   "source": [
    "The first step is to take the cleaned data set ‘outage’ and get the columns of interest, which are 'U.S._STATE' and 'CAUSE.CATEGORY.DETAIL', and rows of interest, which are data relating to the states of California and New York. With the new data frame, we create a pivot table in which calculates the proportion of each outage cause for California and New York. Lastly, we calculated the observed total variation distance by taking the sum of absolute differences divided by two. The resulting observed TVD is show below."
   ]
  },
  {
   "cell_type": "code",
   "execution_count": 13,
   "metadata": {},
   "outputs": [
    {
     "data": {
      "text/plain": [
       "0.459090909090909"
      ]
     },
     "execution_count": 13,
     "metadata": {},
     "output_type": "execute_result"
    }
   ],
   "source": [
    "# observed tvd\n",
    "df = outage[['U.S._STATE','CAUSE.CATEGORY.DETAIL']]\n",
    "new_df = df[(df['U.S._STATE'] == 'California') | (df['U.S._STATE'] == 'New York')]\\\n",
    ".dropna().reset_index()\n",
    "piv = new_df.pivot_table(index='U.S._STATE', columns='CAUSE.CATEGORY.DETAIL', aggfunc='size')\\\n",
    ".apply(lambda x:x / x.sum(), axis=1).fillna(0)\n",
    "obs_tvd = piv.diff().iloc[-1].abs().sum() / 2\n",
    "obs_tvd "
   ]
  },
  {
   "cell_type": "markdown",
   "metadata": {},
   "source": [
    "The next step is to carry out a permutation test, which is a type of hypothesis test for comparing two different samples. To ensure an accurate conclusion, we run the permutation test 1000 times. This is done by shuffling the 'CAUSE.CATEGORY.DETAIL' column, in other words, sample without replacement, and computing the total variation distance using these values. This results in a list of TVDs of length 1000, which is compared against the observed TVD. The p-value is found by calculating the proportion of TVDs simulated under the null hypothesis that are as extreme or more extreme than the observed TVD. the resulting P-value is less than 0.05, therefore we reject the null hypothesis In favor of the alternative hypothesis, which states that the observed differences in proportions of outage cause between California and New York are not likely due to random chance, but may be caused by some underlying reason which can be studied further in the future."
   ]
  },
  {
   "cell_type": "code",
   "execution_count": 14,
   "metadata": {},
   "outputs": [
    {
     "data": {
      "text/plain": [
       "0.015"
      ]
     },
     "execution_count": 14,
     "metadata": {},
     "output_type": "execute_result"
    }
   ],
   "source": [
    "# permutation testing\n",
    "tvds = []\n",
    "\n",
    "for i in range(1000):\n",
    "    # shuffle the 'CAUSE.CATEGORY.DETAIL' column\n",
    "    shuffled_col = (\n",
    "    new_df['CAUSE.CATEGORY.DETAIL']\n",
    "    .sample(replace=False, frac=1)\n",
    "    .reset_index(drop=True)\n",
    "    )\n",
    "\n",
    "    # put them in a table\n",
    "    shuffled = (\n",
    "    new_df\n",
    "    .assign(**{'Shuffled': shuffled_col})\n",
    "    )\n",
    "\n",
    "    # compute the tvd\n",
    "    pivot_table = (\n",
    "    shuffled\n",
    "    .pivot_table(index='U.S._STATE', columns='Shuffled', aggfunc='size')\n",
    "    .apply(lambda x:x / x.sum(), axis=1).fillna(0)\n",
    "    )\n",
    "\n",
    "\n",
    "    tvd = pivot_table.diff().iloc[-1].abs().sum() / 2\n",
    "    tvds.append(tvd)\n",
    "\n",
    "pval = np.count_nonzero(tvds >= obs_tvd)/1000\n",
    "pval"
   ]
  },
  {
   "cell_type": "markdown",
   "metadata": {},
   "source": [
    "## Part 2: Machine Learning\n",
    "\n",
    "\n",
    "### Introduction\n",
    "In this study in particular, our prediction problem revolves around the cause category of a given power outage. Given the information in this dataframe, we will attempt to predict the cause of a major power outage. This is a classification problem. Our target variable, or the outcome variable we would like to predict, is \"CAUSE.CATEGORY.\"\n",
    "\n",
    "The raw data set contains issues with formatting and null values, therefore the data cleaning process, including most imputation, was done prior to constructing any of the models.\n",
    "\n",
    "Our objective was previously to define a model that maximizes the f1-score. There is class imbalance in the 'CAUSE.CATEGORY'. Accuracy would have been suffice in the case that there is NO class imbalance, because accuracy weighs the different categories equally. Accuracy treats true positives and true negatives as equal. Because we have class-imbalance data, we did not want to weigh the different categories equally. We wanted the categories to be weighed based on the proportion of times they appear in the data set. The formula for the f1 score is: 2 * ((precision * recall) / (precision + recall)), thereby taking into consideration both precision and recall (also known as sensitivity).\n",
    "\n",
    "However, we noticed that there were some errors when using the f1 score. We encountered division by 0 errors, which automatically replaces precision scores with 0.0. This occurred when testing the final model. Therefore, our objective now is to define a model that maximizes precision. The formula for precision is: true positives / (true positives + false positives). This is a good metric in evaluating our models because in precision looks at both the negative and positive classes, but it emphasizes the importance of correctly detecting the positive class than correctly detecting the negative class. \n",
    "\n",
    "### Baseline Model\n",
    "The baseline uses a total of five features, one of which is ordinal, two of which are nominal, and two of which are quantitative. Features include 'OUTAGE.DURATION','CUSTOMERS.AFFECTED','CLIMATE.CATEGORY','HURRICANE.NAMES' (if applicable),'U.S._STATE'. All features are known information at the \"time of prediction.\" Prior to evaluating the model performance, necessary steps were taken to handle null data and the model was fit to the training data. The evaluation metric, f1 score, reported a score of 1.0 when predicting y_train (using X_train) and reported a score of around 0.65 when predicting y_test (using X_test). Similarly, our primary evaluation metric, precision, reported a score of 1.0 when predicting y_train (using X_train) and reported a score of around 0.65 when predicting y_test (using X_test). A score of 1 is the best value a model can attain, while a score of 0 is the worst a value can attain for both the f1 score and precision metrics. The baseline model predicted all y_train values correctly, but did fairly poorly predicting on unseen data (ie. the testing data). This means the model is overfit to the training data, thereby having very little bias, but a great amount of variance. In our final model, the goal is to attain a fairly high f1 score when used on unseen data. This would mean the model is good at generalizing.\n",
    "\n",
    "### Final Model\n",
    "\n",
    "The final, improved model uses a total of four features, one of which is ordinal, one of which is nominal, and two of which are quantitative. These features were used in the baseline model. The features are 'OUTAGE.DURATION','CUSTOMERS.AFFECTED','CLIMATE.CATEGORY', and'U.S._STATE'. From the baseline model, the 'HURRICANE.NAMES' column was dropped. All features are known information at the \"time of prediction.\" Prior to evaluating the model performance, necessary steps were taken to handle null data and the model was fit to the training data.\n",
    "\n",
    "Two new features from the dataset were created in which improved the model's performance. Firstly, it was discovered that the 'OUTAGE.DURATION' column had right-skewed or positively skewed data. It contained fairly different values across the different cause categories. The first engineered feature included a function transformer which square-root-scaled all values. This made the column more normal distributed. Similarly, it was discovered that the 'CUSTOMERS.AFFECTED' column had near normal data. It contained fairly equal values across the different cause categories. It wouldn't make sense to square-root-scale this column. Instead, the second engineered feature included the StandardScaler function whereby values are replaced with their standard score. The standard score allows us to calculate and compare two scores within different normal distributions.\n",
    "\n",
    "To search for the best model parameters, we ran the model on the training and testing data using different values of max_depth, min_samples_split, and min_samples_leaf for the DecisionTreeClassifier(). max_depth values tested ranged from 1 to 20. min_samples_split and min_samples_leaf values tested ranged from 2 to 20. It seemed that precision scores for varying values of each of the parameters resulted in increasing or decreasing values for precision on the training data, but stagnant values for precision on the testing data. Therefore, our final model stuck with default values for these three parameters in the DecisionTreeClassifier().\n",
    "\n",
    "Precision scores improved immensely through feature engineering and narrowing down features of interest. As opposed to the baseline model which averaged a precision score of 0.65, the final model averaged a precision score of 0.90, which is a great improvement. This means that our final model is able to correctly predict the cause of a given power outage roughly around 90% of the time.\n",
    "\n",
    "### Fairness Evaluation\n",
    "Our model predicts the cause of a given power outage. We would like to focus on the most prevalent cause of power outages, that being 'severe weather'. We want to see whether our model is more fair towards power outages that affect more customers or more fair towards power outages that affect less customers. We consider power outages that affect greater than or equal to 100,000 customers as affecting 'more', wherease we consider power outages that affect less than 100,000 customers as affecting 'less'. Therefore, our subset of interest lies within the 'CUSTOMERS.AFFECTED' column. This number arose, as it was between the median and the mean number of customers affected across all power outages.\n",
    "\n",
    "Here are the parameters we will be using. More details and implementation can be found in the coding section.\n",
    "\n",
    "A = {power outages with >= 100,000 customers affected}\n",
    "Y = Severe weather (1.0) or other cause (0.0)\n",
    "C = Predict it was caused by severe weather (1.0) or not (0.0)\n",
    "\n",
    "\n",
    "Our null hypothesis is that our final model is fair and that precision for both subsets are roughly equal.\n",
    "Our alternative hypothesis is that our final model is unfair and that the precision for one subset is higher than the precision for the other subset.\n",
    "\n",
    "\n",
    "We will use demographic parity to evaluate model fairness. Accuracy parity puts all predictions, both positive and negative, on equal footing. Just like calculating accuracy, this works for datasets that do not have class imbalance. However, class imbalance is prevalent in our data set, therefore demographic parity is a better measurement of fairness. Demographic parity instead focuses on the outcome of predicting a power outage caused by severe weather, rather than correct predictions in general. Demographic parity holds that predictions should be proportional across both groups. Demographic parity can be described as: P(C = 1.0 | A = 1) = P(C = 1.0 | A != 1) where C and A are defined as above. This means that if the model is fair, predictions should be proportional across both groups.To get a better sense of fairness, we will use a permutation test to evaluate our model with a significance level of 0.01. The resulting p-value is roughly 0.4, which is much greater than our significance level, therefore we fail to reject the null hypothesis. We conclude that our final model is fair and that the precision for both subsets are roughly equal. Any observed differences are due to random chance."
   ]
  },
  {
   "cell_type": "markdown",
   "metadata": {},
   "source": [
    "# Code"
   ]
  },
  {
   "cell_type": "markdown",
   "metadata": {},
   "source": [
    "Import additional necessary packages."
   ]
  },
  {
   "cell_type": "code",
   "execution_count": 15,
   "metadata": {},
   "outputs": [],
   "source": [
    "from sklearn.preprocessing import FunctionTransformer \n",
    "from sklearn.preprocessing import OneHotEncoder # for nominal variables\n",
    "from sklearn.preprocessing import OrdinalEncoder # for ordinal variables\n",
    "from sklearn.pipeline import Pipeline\n",
    "from sklearn.compose import ColumnTransformer\n",
    "from sklearn.tree import DecisionTreeClassifier # classifier for our prediction problem\n",
    "from sklearn.model_selection import train_test_split # to seperate training and testing sets\n",
    "from sklearn.preprocessing import StandardScaler\n",
    "from sklearn.metrics import f1_score, precision_score # evaluating metrics"
   ]
  },
  {
   "cell_type": "markdown",
   "metadata": {},
   "source": [
    "Two functions defined below are to probabilistically impute quantitative columns."
   ]
  },
  {
   "cell_type": "code",
   "execution_count": 16,
   "metadata": {},
   "outputs": [],
   "source": [
    "def impute_quant(series):\n",
    "    total_null = series.isnull().sum()\n",
    "    fill_values = pd.Series(quantitative_distribution(series, total_null))\n",
    "    fill_values.index = series.loc[series.isnull()].index\n",
    "    return series.fillna(fill_values.to_dict())"
   ]
  },
  {
   "cell_type": "code",
   "execution_count": 17,
   "metadata": {},
   "outputs": [],
   "source": [
    "def quantitative_distribution(series, N):\n",
    "    ser = series.dropna()\n",
    "    proportions, bounds = np.histogram(ser, bins=10)\n",
    "    proportions = proportions/proportions.sum()\n",
    "\n",
    "    lst = []\n",
    "    for i in range(N):\n",
    "        bound = np.random.choice(np.arange(0,10), p=list(proportions))\n",
    "        num = np.random.uniform(bounds[bound],bounds[bound+1])\n",
    "        lst.append(num)\n",
    "\n",
    "    return np.array(lst)"
   ]
  },
  {
   "cell_type": "markdown",
   "metadata": {},
   "source": [
    "Imputing or dealing with NaN values within the columns of interest. Probabilistically imputed the quantitative columns, 'OUTAGE.DURATION' and 'CUSTOMERS.AFFECTED'. No nulls in 'U.S._STATE'. Filled nulls in 'HURRICANE.NAMES' with the string 'not applicable' and ones with names as 'applicable'. Dropped rows with null 'OUTAGE.DURATION' since there were only 9 rows with nulls from the large data set."
   ]
  },
  {
   "cell_type": "code",
   "execution_count": 18,
   "metadata": {},
   "outputs": [],
   "source": [
    "outage['OUTAGE.DURATION'] = impute_quant(outage['OUTAGE.DURATION'])\n",
    "outage['CUSTOMERS.AFFECTED'] = impute_quant(outage['CUSTOMERS.AFFECTED'])\n",
    "hurr_name_imp = outage['HURRICANE.NAMES'].fillna('not applicable')\n",
    "outage['HURRICANE.NAMES'] = hurr_name_imp\n",
    "indices_hurricanes = list(outage[outage['HURRICANE.NAMES'] != 'not applicable']['HURRICANE.NAMES'].index)\n",
    "outage.loc[indices_hurricanes,'HURRICANE.NAMES'] = 'applicable'\n",
    "outage = outage.dropna(subset=['CLIMATE.CATEGORY'])"
   ]
  },
  {
   "cell_type": "markdown",
   "metadata": {},
   "source": [
    "Looking at the distribution of the 'CAUSE.CATEGORY' column shows that there is class imbalance, meaning there is underrepresentation and overrepresentation of the different categories. The f1 score takes into consideration precision and recall, and therefore will be used to assess the model's performance."
   ]
  },
  {
   "cell_type": "code",
   "execution_count": 19,
   "metadata": {},
   "outputs": [
    {
     "data": {
      "text/plain": [
       "severe weather                   759\n",
       "intentional attack               418\n",
       "system operability disruption    126\n",
       "public appeal                     69\n",
       "equipment failure                 57\n",
       "fuel supply emergency             50\n",
       "islanding                         46\n",
       "Name: CAUSE.CATEGORY, dtype: int64"
      ]
     },
     "execution_count": 19,
     "metadata": {},
     "output_type": "execute_result"
    }
   ],
   "source": [
    "outage['CAUSE.CATEGORY'].value_counts()"
   ]
  },
  {
   "cell_type": "markdown",
   "metadata": {},
   "source": [
    "### Baseline Model"
   ]
  },
  {
   "cell_type": "markdown",
   "metadata": {},
   "source": [
    "75% of data as training data and 25% of data as testing data. Testing data is set aside until model is done with training."
   ]
  },
  {
   "cell_type": "code",
   "execution_count": 20,
   "metadata": {},
   "outputs": [],
   "source": [
    "X = outage[['OUTAGE.DURATION','CUSTOMERS.AFFECTED','CLIMATE.CATEGORY','HURRICANE.NAMES','U.S._STATE']]\n",
    "y = outage['CAUSE.CATEGORY']\n",
    "X_train, X_test, y_train, y_test = train_test_split(X,y,test_size=0.25)"
   ]
  },
  {
   "cell_type": "markdown",
   "metadata": {},
   "source": [
    "General set of features used to create the baseline model."
   ]
  },
  {
   "cell_type": "code",
   "execution_count": 21,
   "metadata": {},
   "outputs": [],
   "source": [
    "identity = FunctionTransformer(lambda x:x, validate=True)\n",
    "nominal = OneHotEncoder()\n",
    "ordinal = OrdinalEncoder()"
   ]
  },
  {
   "cell_type": "markdown",
   "metadata": {},
   "source": [
    "Note: 'HURRICANE.NAMES' is a nominal column, however, since all hurricanes have different names, we previously reformatted the column so that there were only two categories: 'applicable' and 'not applicable'. This makes it possible to ordinal encode below."
   ]
  },
  {
   "cell_type": "code",
   "execution_count": 22,
   "metadata": {},
   "outputs": [],
   "source": [
    "preproc = ColumnTransformer([('ord_enc_cat',ordinal,['CLIMATE.CATEGORY']),\\\n",
    "                            ('nom',nominal,['U.S._STATE']),\\\n",
    "                             ('ord_enc_name',ordinal,['HURRICANE.NAMES']),\\\n",
    "                            ('ident_dur',identity,['OUTAGE.DURATION']),\\\n",
    "                            ('ident_cust',identity,['CUSTOMERS.AFFECTED'])])"
   ]
  },
  {
   "cell_type": "code",
   "execution_count": 23,
   "metadata": {},
   "outputs": [],
   "source": [
    "pipeline = Pipeline([('feat',preproc),\\\n",
    "                     ('classif',DecisionTreeClassifier())])\n",
    "pipeline.fit(X_train,y_train);"
   ]
  },
  {
   "cell_type": "markdown",
   "metadata": {},
   "source": [
    "Evaluating the pipeline on the training data results in an f1 score of 1. However, evaluating the pipeline on the testing data results in an f1 score of generally around 0.65."
   ]
  },
  {
   "cell_type": "code",
   "execution_count": 24,
   "metadata": {},
   "outputs": [
    {
     "data": {
      "text/plain": [
       "1.0"
      ]
     },
     "execution_count": 24,
     "metadata": {},
     "output_type": "execute_result"
    }
   ],
   "source": [
    "preds_train = pipeline.predict(X_train)\n",
    "f1_score(preds_train,y_train,average='weighted')"
   ]
  },
  {
   "cell_type": "code",
   "execution_count": 25,
   "metadata": {},
   "outputs": [
    {
     "data": {
      "text/plain": [
       "0.6336913176730762"
      ]
     },
     "execution_count": 25,
     "metadata": {},
     "output_type": "execute_result"
    }
   ],
   "source": [
    "preds_test = pipeline.predict(X_test)\n",
    "f1_score(preds_test,y_test,average='weighted')"
   ]
  },
  {
   "cell_type": "markdown",
   "metadata": {},
   "source": [
    "Because we encountered errors later on when evaluating the final model (ie. precision scores of 0 due to division by 0, we decided to look at precision, which evaluates our model through the analyses of true poisitves and false positives.Evaluating the pipeline on the training data results in a precision score of 1.0 whereas evaluating the pipeline on the testing data results in a precision score of generally around 0.65.\n",
    "\n",
    "\n",
    "The f1 score and precision score are roughly equal for the baseline model."
   ]
  },
  {
   "cell_type": "code",
   "execution_count": 26,
   "metadata": {},
   "outputs": [
    {
     "data": {
      "text/plain": [
       "1.0"
      ]
     },
     "execution_count": 26,
     "metadata": {},
     "output_type": "execute_result"
    }
   ],
   "source": [
    "precision_score(preds_train,y_train,average='weighted')"
   ]
  },
  {
   "cell_type": "code",
   "execution_count": 27,
   "metadata": {},
   "outputs": [
    {
     "data": {
      "text/plain": [
       "0.6402192467078044"
      ]
     },
     "execution_count": 27,
     "metadata": {},
     "output_type": "execute_result"
    }
   ],
   "source": [
    "precision_score(preds_test,y_test,average='weighted')"
   ]
  },
  {
   "cell_type": "markdown",
   "metadata": {},
   "source": [
    "### Final Model"
   ]
  },
  {
   "cell_type": "markdown",
   "metadata": {},
   "source": [
    "Upon closer investigation, 'CUSTOMERS.AFFECTED' seems to have similar values across all cause categories, while 'OUTAGE.DURATION' seems to have fairly different values across the different cause categories. The final model therefore utilizes both columns, but scaled them differently to improve the data set."
   ]
  },
  {
   "cell_type": "code",
   "execution_count": 28,
   "metadata": {},
   "outputs": [
    {
     "data": {
      "text/html": [
       "<div>\n",
       "<style scoped>\n",
       "    .dataframe tbody tr th:only-of-type {\n",
       "        vertical-align: middle;\n",
       "    }\n",
       "\n",
       "    .dataframe tbody tr th {\n",
       "        vertical-align: top;\n",
       "    }\n",
       "\n",
       "    .dataframe thead th {\n",
       "        text-align: right;\n",
       "    }\n",
       "</style>\n",
       "<table border=\"1\" class=\"dataframe\">\n",
       "  <thead>\n",
       "    <tr style=\"text-align: right;\">\n",
       "      <th></th>\n",
       "      <th>OUTAGE.DURATION</th>\n",
       "      <th>CUSTOMERS.AFFECTED</th>\n",
       "    </tr>\n",
       "    <tr>\n",
       "      <th>CAUSE.CATEGORY</th>\n",
       "      <th></th>\n",
       "      <th></th>\n",
       "    </tr>\n",
       "  </thead>\n",
       "  <tbody>\n",
       "    <tr>\n",
       "      <td>equipment failure</td>\n",
       "      <td>2195.563635</td>\n",
       "      <td>182783.451950</td>\n",
       "    </tr>\n",
       "    <tr>\n",
       "      <td>fuel supply emergency</td>\n",
       "      <td>11408.289522</td>\n",
       "      <td>161076.583313</td>\n",
       "    </tr>\n",
       "    <tr>\n",
       "      <td>intentional attack</td>\n",
       "      <td>607.432262</td>\n",
       "      <td>111329.607332</td>\n",
       "    </tr>\n",
       "    <tr>\n",
       "      <td>islanding</td>\n",
       "      <td>726.875407</td>\n",
       "      <td>69876.559211</td>\n",
       "    </tr>\n",
       "    <tr>\n",
       "      <td>public appeal</td>\n",
       "      <td>1468.449275</td>\n",
       "      <td>165042.358347</td>\n",
       "    </tr>\n",
       "    <tr>\n",
       "      <td>severe weather</td>\n",
       "      <td>3944.249075</td>\n",
       "      <td>191645.830320</td>\n",
       "    </tr>\n",
       "    <tr>\n",
       "      <td>system operability disruption</td>\n",
       "      <td>881.102538</td>\n",
       "      <td>211845.798685</td>\n",
       "    </tr>\n",
       "  </tbody>\n",
       "</table>\n",
       "</div>"
      ],
      "text/plain": [
       "0                              OUTAGE.DURATION  CUSTOMERS.AFFECTED\n",
       "CAUSE.CATEGORY                                                    \n",
       "equipment failure                  2195.563635       182783.451950\n",
       "fuel supply emergency             11408.289522       161076.583313\n",
       "intentional attack                  607.432262       111329.607332\n",
       "islanding                           726.875407        69876.559211\n",
       "public appeal                      1468.449275       165042.358347\n",
       "severe weather                     3944.249075       191645.830320\n",
       "system operability disruption       881.102538       211845.798685"
      ]
     },
     "execution_count": 28,
     "metadata": {},
     "output_type": "execute_result"
    }
   ],
   "source": [
    "outage.groupby('CAUSE.CATEGORY').mean()"
   ]
  },
  {
   "cell_type": "markdown",
   "metadata": {},
   "source": [
    "The values in 'OUTAGE.DURATION' is right-skewed (or positive-skewed). This means that the distribution is not symmetrical and the mode < median < mean. In a symmetrical distribution, the mode, mediean, and mean are roughly the same value. In order to reduce skewness, we take the square root for each value in the column."
   ]
  },
  {
   "cell_type": "code",
   "execution_count": 29,
   "metadata": {},
   "outputs": [
    {
     "data": {
      "text/plain": [
       "<matplotlib.axes._subplots.AxesSubplot at 0x1a267b66d0>"
      ]
     },
     "execution_count": 29,
     "metadata": {},
     "output_type": "execute_result"
    },
    {
     "data": {
      "image/png": "[encoded data removed]",
      "text/plain": [
       "<Figure size 432x288 with 1 Axes>"
      ]
     },
     "metadata": {
      "image/png": {
       "height": 248,
       "width": 394
      },
      "needs_background": "light"
     },
     "output_type": "display_data"
    }
   ],
   "source": [
    "(X['OUTAGE.DURATION']).plot() # before scaling by np.sqrt"
   ]
  },
  {
   "cell_type": "code",
   "execution_count": 30,
   "metadata": {},
   "outputs": [
    {
     "data": {
      "text/plain": [
       "<matplotlib.axes._subplots.AxesSubplot at 0x1a2697aa10>"
      ]
     },
     "execution_count": 30,
     "metadata": {},
     "output_type": "execute_result"
    },
    {
     "data": {
      "image/png": "[encoded data removed]",
      "text/plain": [
       "<Figure size 432x288 with 1 Axes>"
      ]
     },
     "metadata": {
      "image/png": {
       "height": 248,
       "width": 375
      },
      "needs_background": "light"
     },
     "output_type": "display_data"
    }
   ],
   "source": [
    "(X['OUTAGE.DURATION']**0.5).plot() # after scaling by np.sqrt"
   ]
  },
  {
   "cell_type": "markdown",
   "metadata": {},
   "source": [
    "75% of data as training data and 25% of data as testing data. Testing data is set aside until model is done with training."
   ]
  },
  {
   "cell_type": "code",
   "execution_count": 31,
   "metadata": {},
   "outputs": [],
   "source": [
    "X = outage.drop('CAUSE.CATEGORY', axis=1)\n",
    "y = outage['CAUSE.CATEGORY']\n",
    "X_train, X_test, y_train, y_test = train_test_split(X,y,test_size=0.25)"
   ]
  },
  {
   "cell_type": "markdown",
   "metadata": {},
   "source": [
    "Here are the set of features used to create the final model.\n",
    "Two new engineered features include the function transformer in which scales values by square root and the standard scaler function in which changes values according to its standard score."
   ]
  },
  {
   "cell_type": "code",
   "execution_count": 32,
   "metadata": {},
   "outputs": [],
   "source": [
    "nominal = OneHotEncoder()\n",
    "ordinal = OrdinalEncoder()\n",
    "sqrt = FunctionTransformer(np.sqrt, validate=True) # scaling by square root\n",
    "stdscaler = StandardScaler() # values are replaced with their standard score\n",
    "\n",
    "\n",
    "preproc = ColumnTransformer([('ord_enc_cat',ordinal,['CLIMATE.CATEGORY']),\\\n",
    "                             ('sqrt',sqrt,['OUTAGE.DURATION']),\\\n",
    "                             ('stdscaler',stdscaler,['CUSTOMERS.AFFECTED']),\\\n",
    "                            ('nom',nominal,['U.S._STATE'])])"
   ]
  },
  {
   "cell_type": "markdown",
   "metadata": {},
   "source": [
    "The code below calculates the f1 score for varying values of max_depth. It seems that with greater values of max_depth, the training data gets higher f1 scores (expected), while the testing data maintains the same f1 score, regardless of the value of max_depth. Calculating the f1 score seems to produce errors, therefore we also decided to calculate precision, as you will see later in the code."
   ]
  },
  {
   "cell_type": "code",
   "execution_count": 33,
   "metadata": {},
   "outputs": [
    {
     "name": "stderr",
     "output_type": "stream",
     "text": [
      "/Users/carolynduong/opt/anaconda3/lib/python3.7/site-packages/sklearn/metrics/classification.py:1437: UndefinedMetricWarning: F-score is ill-defined and being set to 0.0 in labels with no predicted samples.\n",
      "  'precision', 'predicted', average, warn_for)\n",
      "/Users/carolynduong/opt/anaconda3/lib/python3.7/site-packages/sklearn/metrics/classification.py:1437: UndefinedMetricWarning: F-score is ill-defined and being set to 0.0 in labels with no predicted samples.\n",
      "  'precision', 'predicted', average, warn_for)\n",
      "/Users/carolynduong/opt/anaconda3/lib/python3.7/site-packages/sklearn/metrics/classification.py:1437: UndefinedMetricWarning: F-score is ill-defined and being set to 0.0 in labels with no predicted samples.\n",
      "  'precision', 'predicted', average, warn_for)\n",
      "/Users/carolynduong/opt/anaconda3/lib/python3.7/site-packages/sklearn/metrics/classification.py:1437: UndefinedMetricWarning: F-score is ill-defined and being set to 0.0 in labels with no predicted samples.\n",
      "  'precision', 'predicted', average, warn_for)\n",
      "/Users/carolynduong/opt/anaconda3/lib/python3.7/site-packages/sklearn/metrics/classification.py:1437: UndefinedMetricWarning: F-score is ill-defined and being set to 0.0 in labels with no predicted samples.\n",
      "  'precision', 'predicted', average, warn_for)\n"
     ]
    },
    {
     "data": {
      "text/html": [
       "<div>\n",
       "<style scoped>\n",
       "    .dataframe tbody tr th:only-of-type {\n",
       "        vertical-align: middle;\n",
       "    }\n",
       "\n",
       "    .dataframe tbody tr th {\n",
       "        vertical-align: top;\n",
       "    }\n",
       "\n",
       "    .dataframe thead th {\n",
       "        text-align: right;\n",
       "    }\n",
       "</style>\n",
       "<table border=\"1\" class=\"dataframe\">\n",
       "  <thead>\n",
       "    <tr style=\"text-align: right;\">\n",
       "      <th></th>\n",
       "      <th>train_score</th>\n",
       "      <th>test_score</th>\n",
       "    </tr>\n",
       "  </thead>\n",
       "  <tbody>\n",
       "    <tr>\n",
       "      <td>1</td>\n",
       "      <td>0.556307</td>\n",
       "      <td>0.903595</td>\n",
       "    </tr>\n",
       "    <tr>\n",
       "      <td>2</td>\n",
       "      <td>0.576028</td>\n",
       "      <td>0.903595</td>\n",
       "    </tr>\n",
       "    <tr>\n",
       "      <td>3</td>\n",
       "      <td>0.584326</td>\n",
       "      <td>0.903595</td>\n",
       "    </tr>\n",
       "    <tr>\n",
       "      <td>4</td>\n",
       "      <td>0.646266</td>\n",
       "      <td>0.903595</td>\n",
       "    </tr>\n",
       "    <tr>\n",
       "      <td>5</td>\n",
       "      <td>0.690432</td>\n",
       "      <td>0.903595</td>\n",
       "    </tr>\n",
       "  </tbody>\n",
       "</table>\n",
       "</div>"
      ],
      "text/plain": [
       "   train_score  test_score\n",
       "1     0.556307    0.903595\n",
       "2     0.576028    0.903595\n",
       "3     0.584326    0.903595\n",
       "4     0.646266    0.903595\n",
       "5     0.690432    0.903595"
      ]
     },
     "execution_count": 33,
     "metadata": {},
     "output_type": "execute_result"
    }
   ],
   "source": [
    "train_score = []\n",
    "test_score = []\n",
    "indices = [num for num in np.arange(1,21)] # tests max_depth values from 1 to 20\n",
    "\n",
    "for num in np.arange(1,21):\n",
    "    pl = Pipeline([('feat',preproc),('classif',DecisionTreeClassifier(max_depth=num))])\n",
    "    pl.fit(X_train,y_train)\n",
    "    train_score.append(f1_score(y_train,pl.predict(X_train),average='weighted'))\n",
    "    test_score.append(f1_score(y_test,pipeline.predict(X_test),average='weighted'))\n",
    "pd.DataFrame({'train_score':train_score, 'test_score':test_score},index=indices).head()\n",
    "# shows the first five f1 scores for training data and testing data by max_depth"
   ]
  },
  {
   "cell_type": "markdown",
   "metadata": {},
   "source": [
    "Here, the precision scores are listed for varying values of max_depth. Similar to the f1 score, it seems that with greater values of max_depth, the training data gets higher precision scores (expected), while the testing data maintains the same precision score, regardless of the value of max_depth."
   ]
  },
  {
   "cell_type": "code",
   "execution_count": 34,
   "metadata": {},
   "outputs": [
    {
     "data": {
      "text/html": [
       "<div>\n",
       "<style scoped>\n",
       "    .dataframe tbody tr th:only-of-type {\n",
       "        vertical-align: middle;\n",
       "    }\n",
       "\n",
       "    .dataframe tbody tr th {\n",
       "        vertical-align: top;\n",
       "    }\n",
       "\n",
       "    .dataframe thead th {\n",
       "        text-align: right;\n",
       "    }\n",
       "</style>\n",
       "<table border=\"1\" class=\"dataframe\">\n",
       "  <thead>\n",
       "    <tr style=\"text-align: right;\">\n",
       "      <th></th>\n",
       "      <th>train_score</th>\n",
       "      <th>test_score</th>\n",
       "    </tr>\n",
       "  </thead>\n",
       "  <tbody>\n",
       "    <tr>\n",
       "      <td>1</td>\n",
       "      <td>0.816150</td>\n",
       "      <td>0.903306</td>\n",
       "    </tr>\n",
       "    <tr>\n",
       "      <td>2</td>\n",
       "      <td>0.850343</td>\n",
       "      <td>0.903306</td>\n",
       "    </tr>\n",
       "    <tr>\n",
       "      <td>3</td>\n",
       "      <td>0.906293</td>\n",
       "      <td>0.903306</td>\n",
       "    </tr>\n",
       "    <tr>\n",
       "      <td>4</td>\n",
       "      <td>0.816318</td>\n",
       "      <td>0.903306</td>\n",
       "    </tr>\n",
       "    <tr>\n",
       "      <td>5</td>\n",
       "      <td>0.841882</td>\n",
       "      <td>0.903306</td>\n",
       "    </tr>\n",
       "  </tbody>\n",
       "</table>\n",
       "</div>"
      ],
      "text/plain": [
       "   train_score  test_score\n",
       "1     0.816150    0.903306\n",
       "2     0.850343    0.903306\n",
       "3     0.906293    0.903306\n",
       "4     0.816318    0.903306\n",
       "5     0.841882    0.903306"
      ]
     },
     "execution_count": 34,
     "metadata": {},
     "output_type": "execute_result"
    }
   ],
   "source": [
    "train_score = []\n",
    "test_score = []\n",
    "indices = [num for num in np.arange(1,20)] # tests max_depth values from 1 to 20\n",
    "\n",
    "for num in np.arange(1,20):\n",
    "    pl = Pipeline([('feat',preproc),('classif',DecisionTreeClassifier(max_depth=num))])\n",
    "    pl.fit(X_train,y_train)\n",
    "    train_score.append(precision_score(pl.predict(X_train),y_train,average='weighted'))\n",
    "    test_score.append(precision_score(pipeline.predict(X_test),y_test,average='weighted'))\n",
    "pd.DataFrame({'train_score':train_score, 'test_score':test_score},index=indices).head()\n",
    "# shows the first five precision scores for training data and testing data by max_depth"
   ]
  },
  {
   "cell_type": "markdown",
   "metadata": {},
   "source": [
    "Here, the precision scores are listed for varying values of min_samples_split. It seems that with greater values of min_samples_split, the training data gets lower precision scores (expected), while the testing data maintains the same precision score, regardless of the value of min_samples_split."
   ]
  },
  {
   "cell_type": "code",
   "execution_count": 35,
   "metadata": {},
   "outputs": [
    {
     "data": {
      "text/html": [
       "<div>\n",
       "<style scoped>\n",
       "    .dataframe tbody tr th:only-of-type {\n",
       "        vertical-align: middle;\n",
       "    }\n",
       "\n",
       "    .dataframe tbody tr th {\n",
       "        vertical-align: top;\n",
       "    }\n",
       "\n",
       "    .dataframe thead th {\n",
       "        text-align: right;\n",
       "    }\n",
       "</style>\n",
       "<table border=\"1\" class=\"dataframe\">\n",
       "  <thead>\n",
       "    <tr style=\"text-align: right;\">\n",
       "      <th></th>\n",
       "      <th>train_score</th>\n",
       "      <th>test_score</th>\n",
       "    </tr>\n",
       "  </thead>\n",
       "  <tbody>\n",
       "    <tr>\n",
       "      <td>2</td>\n",
       "      <td>1.000000</td>\n",
       "      <td>0.903306</td>\n",
       "    </tr>\n",
       "    <tr>\n",
       "      <td>3</td>\n",
       "      <td>0.961985</td>\n",
       "      <td>0.903306</td>\n",
       "    </tr>\n",
       "    <tr>\n",
       "      <td>4</td>\n",
       "      <td>0.938622</td>\n",
       "      <td>0.903306</td>\n",
       "    </tr>\n",
       "    <tr>\n",
       "      <td>5</td>\n",
       "      <td>0.922389</td>\n",
       "      <td>0.903306</td>\n",
       "    </tr>\n",
       "    <tr>\n",
       "      <td>6</td>\n",
       "      <td>0.907917</td>\n",
       "      <td>0.903306</td>\n",
       "    </tr>\n",
       "  </tbody>\n",
       "</table>\n",
       "</div>"
      ],
      "text/plain": [
       "   train_score  test_score\n",
       "2     1.000000    0.903306\n",
       "3     0.961985    0.903306\n",
       "4     0.938622    0.903306\n",
       "5     0.922389    0.903306\n",
       "6     0.907917    0.903306"
      ]
     },
     "execution_count": 35,
     "metadata": {},
     "output_type": "execute_result"
    }
   ],
   "source": [
    "train_score = []\n",
    "test_score = []\n",
    "indices = [num for num in np.arange(2,20)] # tests max_depth values from 2 to 20\n",
    "\n",
    "for num in np.arange(2,20):\n",
    "    pl = Pipeline([('feat',preproc),('classif',DecisionTreeClassifier(min_samples_split=num))])\n",
    "    pl.fit(X_train,y_train)\n",
    "    train_score.append(precision_score(pl.predict(X_train),y_train,average='weighted'))\n",
    "    test_score.append(precision_score(pipeline.predict(X_test),y_test,average='weighted'))\n",
    "pd.DataFrame({'train_score':train_score, 'test_score':test_score},index=indices).head()\n",
    "# shows the first five precision for training data and testing data by min_samples_split"
   ]
  },
  {
   "cell_type": "markdown",
   "metadata": {},
   "source": [
    "Here, the precision scores are listed for varying values of min_samples_leaf. It seems that with greater values of min_samples_split, the training data gets lower precision scores (expected), while the testing data maintains the same precision score, regardless of the value of min_samples_leaf."
   ]
  },
  {
   "cell_type": "code",
   "execution_count": 36,
   "metadata": {},
   "outputs": [
    {
     "data": {
      "text/html": [
       "<div>\n",
       "<style scoped>\n",
       "    .dataframe tbody tr th:only-of-type {\n",
       "        vertical-align: middle;\n",
       "    }\n",
       "\n",
       "    .dataframe tbody tr th {\n",
       "        vertical-align: top;\n",
       "    }\n",
       "\n",
       "    .dataframe thead th {\n",
       "        text-align: right;\n",
       "    }\n",
       "</style>\n",
       "<table border=\"1\" class=\"dataframe\">\n",
       "  <thead>\n",
       "    <tr style=\"text-align: right;\">\n",
       "      <th></th>\n",
       "      <th>train_score</th>\n",
       "      <th>test_score</th>\n",
       "    </tr>\n",
       "  </thead>\n",
       "  <tbody>\n",
       "    <tr>\n",
       "      <td>2</td>\n",
       "      <td>0.888675</td>\n",
       "      <td>0.903306</td>\n",
       "    </tr>\n",
       "    <tr>\n",
       "      <td>3</td>\n",
       "      <td>0.854748</td>\n",
       "      <td>0.903306</td>\n",
       "    </tr>\n",
       "    <tr>\n",
       "      <td>4</td>\n",
       "      <td>0.836568</td>\n",
       "      <td>0.903306</td>\n",
       "    </tr>\n",
       "    <tr>\n",
       "      <td>5</td>\n",
       "      <td>0.837055</td>\n",
       "      <td>0.903306</td>\n",
       "    </tr>\n",
       "    <tr>\n",
       "      <td>6</td>\n",
       "      <td>0.817778</td>\n",
       "      <td>0.903306</td>\n",
       "    </tr>\n",
       "  </tbody>\n",
       "</table>\n",
       "</div>"
      ],
      "text/plain": [
       "   train_score  test_score\n",
       "2     0.888675    0.903306\n",
       "3     0.854748    0.903306\n",
       "4     0.836568    0.903306\n",
       "5     0.837055    0.903306\n",
       "6     0.817778    0.903306"
      ]
     },
     "execution_count": 36,
     "metadata": {},
     "output_type": "execute_result"
    }
   ],
   "source": [
    "train_score = []\n",
    "test_score = []\n",
    "indices = [num for num in np.arange(2,20)] # tests max_depth values from 2 to 20\n",
    "\n",
    "for num in np.arange(2,20):\n",
    "    pl = Pipeline([('feat',preproc),('classif',DecisionTreeClassifier(min_samples_leaf=num))])\n",
    "    pl.fit(X_train,y_train)\n",
    "    train_score.append(precision_score(pl.predict(X_train),y_train,average='weighted'))\n",
    "    test_score.append(precision_score(pipeline.predict(X_test),y_test,average='weighted'))\n",
    "pd.DataFrame({'train_score':train_score, 'test_score':test_score},index=indices).head()\n",
    "# shows the first five precision for training data and testing data by min_samples_leaf"
   ]
  },
  {
   "cell_type": "markdown",
   "metadata": {},
   "source": [
    "Because it seems that the values for max_depth, min_samples_split, and min_samples_leaf (for this particular model), our final model will consist of default parameters for the DecisionTreeClassifier() and the metric used will be precision instead of the f1 score. \n",
    "\n",
    "Our final model or pipeline is shown below."
   ]
  },
  {
   "cell_type": "code",
   "execution_count": 37,
   "metadata": {},
   "outputs": [],
   "source": [
    "X = outage.drop('CAUSE.CATEGORY', axis=1)\n",
    "y = outage['CAUSE.CATEGORY']\n",
    "X_train, X_test, y_train, y_test = train_test_split(X,y,test_size=0.25)\n",
    "\n",
    "nominal = OneHotEncoder()\n",
    "ordinal = OrdinalEncoder()\n",
    "log = FunctionTransformer(np.sqrt, validate=True) # scaling by square root\n",
    "stdscaler = StandardScaler() # values are replaced with their standard score\n",
    "\n",
    "\n",
    "preproc = ColumnTransformer([('ord_enc_cat',ordinal,['CLIMATE.CATEGORY']),\\\n",
    "                             ('log',log,['OUTAGE.DURATION']),\\\n",
    "                             ('stdscaler',stdscaler,['CUSTOMERS.AFFECTED']),\\\n",
    "                            ('nom',nominal,['U.S._STATE'])])\n",
    "\n",
    "pl = Pipeline([('feat',preproc),('classif',DecisionTreeClassifier())])\n",
    "pl.fit(X_train, y_train);"
   ]
  },
  {
   "cell_type": "markdown",
   "metadata": {},
   "source": [
    "### Fairness Evaluation"
   ]
  },
  {
   "cell_type": "markdown",
   "metadata": {},
   "source": [
    "We would like to focus on the most prevalent cause of power outages, 'severe weather'. We want to see whether our model is more fair towards power outages that affect more customers or more fair towards power outages that affect less customers.\n",
    "'More' is characterized as: power outages that affect greater than or equal to 100,000 customers 'Less' is characterized as: power outages that affect less than 100,000 customers as affecting 'less'\n",
    "\n",
    "\n",
    "See below for summary statistics of the 'CUSTOMERS.AFFECTED' column."
   ]
  },
  {
   "cell_type": "code",
   "execution_count": 38,
   "metadata": {},
   "outputs": [
    {
     "data": {
      "text/plain": [
       "count    1.525000e+03\n",
       "mean     1.650900e+05\n",
       "std      2.829713e+05\n",
       "min      0.000000e+00\n",
       "25%      3.850000e+04\n",
       "50%      9.970000e+04\n",
       "75%      2.000000e+05\n",
       "max      3.241437e+06\n",
       "Name: CUSTOMERS.AFFECTED, dtype: float64"
      ]
     },
     "execution_count": 38,
     "metadata": {},
     "output_type": "execute_result"
    }
   ],
   "source": [
    "outage['CUSTOMERS.AFFECTED'].describe()"
   ]
  },
  {
   "cell_type": "markdown",
   "metadata": {},
   "source": [
    "This is a breakdown of the different causes of outages. As one can see, the most prevalent cause is 'severe weather', which is the category we will be focusing on in the following fairness evaluation."
   ]
  },
  {
   "cell_type": "code",
   "execution_count": 39,
   "metadata": {},
   "outputs": [
    {
     "data": {
      "text/plain": [
       "severe weather                   759\n",
       "intentional attack               418\n",
       "system operability disruption    126\n",
       "public appeal                     69\n",
       "equipment failure                 57\n",
       "fuel supply emergency             50\n",
       "islanding                         46\n",
       "Name: CAUSE.CATEGORY, dtype: int64"
      ]
     },
     "execution_count": 39,
     "metadata": {},
     "output_type": "execute_result"
    }
   ],
   "source": [
    "outage['CAUSE.CATEGORY'].value_counts()"
   ]
  },
  {
   "cell_type": "markdown",
   "metadata": {},
   "source": [
    "For reference, here is our final model again. It is fitted to the training data and therefore has not touched the testing data."
   ]
  },
  {
   "cell_type": "code",
   "execution_count": 40,
   "metadata": {},
   "outputs": [],
   "source": [
    "X = outage.drop('CAUSE.CATEGORY', axis=1)\n",
    "y = outage['CAUSE.CATEGORY']\n",
    "X_train, X_test, y_train, y_test = train_test_split(X,y,test_size=0.25)\n",
    "\n",
    "nominal = OneHotEncoder()\n",
    "ordinal = OrdinalEncoder()\n",
    "log = FunctionTransformer(np.sqrt, validate=True) # scaling by square root\n",
    "stdscaler = StandardScaler() # values are replaced with their standard score\n",
    "\n",
    "\n",
    "preproc = ColumnTransformer([('ord_enc_cat',ordinal,['CLIMATE.CATEGORY']),\\\n",
    "                             ('log',log,['OUTAGE.DURATION']),\\\n",
    "                             ('stdscaler',stdscaler,['CUSTOMERS.AFFECTED']),\\\n",
    "                            ('nom',nominal,['U.S._STATE'])])\n",
    "\n",
    "pl = Pipeline([('feat',preproc),('classif',DecisionTreeClassifier())])\n",
    "pl.fit(X_train, y_train);"
   ]
  },
  {
   "cell_type": "code",
   "execution_count": 41,
   "metadata": {},
   "outputs": [],
   "source": [
    "results = X_test.copy() # results is a dataframe containing unseen data"
   ]
  },
  {
   "cell_type": "markdown",
   "metadata": {},
   "source": [
    "The dataset is split into two subsets: the first subset consists of all power outages that had 'more' customers affected, whereas the second subset consists of all power outages that had 'less' customers affected. These will act as our X and Y.\n",
    "\n",
    "A = {power outages with >= 100,000 customers affected}\n",
    "Y = Severe weather (1.0) or other cause (0.0)\n",
    "C = Predict it was caused by severe weather (1.0) or not (0.0)\n",
    "\n",
    "Null Hypothesis: Our final model is fair. The precision for both subsets are roughly equal.\n",
    "Alternative Hypothesis: Our final model is unfair. The precision for one subset is higher than the precision for the other subset.\n",
    "\n",
    "We will use demographic parity to evaluate model fairness. Demographic parity can be described as: P(C = 1.0 | A = 1) = P(C = 1.0 | A != 1) where C and A are defined as above.\n",
    "\n",
    "Adding a new column called 'is_more_affected', which indicates whether a given power outage has 'more' or 'less' customers affected."
   ]
  },
  {
   "cell_type": "code",
   "execution_count": 42,
   "metadata": {},
   "outputs": [],
   "source": [
    "results['is_more_affected'] = (results['CUSTOMERS.AFFECTED'] >= 100000).replace({True:'more',False:'less'})"
   ]
  },
  {
   "cell_type": "markdown",
   "metadata": {},
   "source": [
    "Adding a new column called 'predictions', which indicates whether our final model predicted a given outage as being caused by severe weather or something else."
   ]
  },
  {
   "cell_type": "code",
   "execution_count": 43,
   "metadata": {},
   "outputs": [],
   "source": [
    "preds_binary = (pd.Series(pl.predict(results)) == 'severe weather').replace({True:1.0,False:0.0})"
   ]
  },
  {
   "cell_type": "code",
   "execution_count": 44,
   "metadata": {},
   "outputs": [],
   "source": [
    "results['predictions'] = preds_binary"
   ]
  },
  {
   "cell_type": "markdown",
   "metadata": {},
   "source": [
    "Calculating one instance of demographic parity. This indicates that regardless if a power outage affects under or over 100,000 customers, the model predicts severe outages to be the cause almost proportionately across both groups. Let's see if the difference we see is due to chance, or something else."
   ]
  },
  {
   "cell_type": "code",
   "execution_count": 45,
   "metadata": {},
   "outputs": [
    {
     "data": {
      "text/html": [
       "<div>\n",
       "<style scoped>\n",
       "    .dataframe tbody tr th:only-of-type {\n",
       "        vertical-align: middle;\n",
       "    }\n",
       "\n",
       "    .dataframe tbody tr th {\n",
       "        vertical-align: top;\n",
       "    }\n",
       "\n",
       "    .dataframe thead th {\n",
       "        text-align: right;\n",
       "    }\n",
       "</style>\n",
       "<table border=\"1\" class=\"dataframe\">\n",
       "  <thead>\n",
       "    <tr style=\"text-align: right;\">\n",
       "      <th></th>\n",
       "      <th>predictions</th>\n",
       "    </tr>\n",
       "    <tr>\n",
       "      <th>is_more_affected</th>\n",
       "      <th></th>\n",
       "    </tr>\n",
       "  </thead>\n",
       "  <tbody>\n",
       "    <tr>\n",
       "      <td>less</td>\n",
       "      <td>0.489796</td>\n",
       "    </tr>\n",
       "    <tr>\n",
       "      <td>more</td>\n",
       "      <td>0.566667</td>\n",
       "    </tr>\n",
       "  </tbody>\n",
       "</table>\n",
       "</div>"
      ],
      "text/plain": [
       "                  predictions\n",
       "is_more_affected             \n",
       "less                 0.489796\n",
       "more                 0.566667"
      ]
     },
     "execution_count": 45,
     "metadata": {},
     "output_type": "execute_result"
    }
   ],
   "source": [
    "# Demographic Parity\n",
    "results.groupby('is_more_affected').predictions.mean().to_frame()"
   ]
  },
  {
   "cell_type": "markdown",
   "metadata": {},
   "source": [
    "We will use a permutation test to evaluate our model with a significance level of 0.01.\n",
    "The resulting p-value is roughly 0.4, which is much greater than our significance level, therefore we fail to reject the null hypothesis."
   ]
  },
  {
   "cell_type": "code",
   "execution_count": 46,
   "metadata": {},
   "outputs": [
    {
     "data": {
      "text/plain": [
       "0.228"
      ]
     },
     "execution_count": 46,
     "metadata": {},
     "output_type": "execute_result"
    }
   ],
   "source": [
    "obs = results.groupby('is_more_affected').predictions.mean().to_frame().diff().iloc[-1][0]\n",
    "\n",
    "metrics = []\n",
    "for i in range(1000):\n",
    "    s = (\n",
    "        results[['is_more_affected', 'predictions']]\n",
    "        .assign(is_more_affected=results.is_more_affected.sample(frac=1.0, replace=False).reset_index(drop=True))\n",
    "        .groupby('is_more_affected')\n",
    "        .predictions.mean().to_frame()\n",
    "        .diff()\n",
    "        .iloc[-1][0]\n",
    "    )\n",
    "    \n",
    "    metrics.append(s)\n",
    "\n",
    "pval = np.count_nonzero(metrics >= obs)/1000\n",
    "pval"
   ]
  },
  {
   "cell_type": "markdown",
   "metadata": {},
   "source": [
    "The histogram below shows that the observed value is quite plausible under the null hypothesis. Nothing extreme is observed. We conclude that our final model is fair and that the precision for both subsets are roughly equal."
   ]
  },
  {
   "cell_type": "code",
   "execution_count": 47,
   "metadata": {},
   "outputs": [
    {
     "data": {
      "image/png": "[encoded data removed]",
      "text/plain": [
       "<Figure size 432x288 with 1 Axes>"
      ]
     },
     "metadata": {
      "image/png": {
       "height": 263,
       "width": 428
      },
      "needs_background": "light"
     },
     "output_type": "display_data"
    }
   ],
   "source": [
    "pd.Series(metrics).plot(kind='hist', title='Permutation Test for Classification of Severe Weather Across Groups')\n",
    "plt.scatter(obs, 0, c='r');"
   ]
  }
 ],
 "metadata": {
  "kernelspec": {
   "display_name": "Python 3",
   "language": "python",
   "name": "python3"
  },
  "language_info": {
   "codemirror_mode": {
    "name": "ipython",
    "version": 3
   },
   "file_extension": ".py",
   "mimetype": "text/x-python",
   "name": "python",
   "nbconvert_exporter": "python",
   "pygments_lexer": "ipython3",
   "version": "3.7.4"
  }
 },
 "nbformat": 4,
 "nbformat_minor": 2
}
